{
 "cells": [
  {
   "cell_type": "markdown",
   "metadata": {},
   "source": [
    "<img src=\"https://www.ikiam.edu.ec/img/logo-ikiam-grey.png\" width=300 height=240 />\n",
    "\n",
    "# EXAMEN PARCIAL 1\n",
    "\n",
    "## GBI6-2021II: BIOINFORMÁTICA\n",
    "\n",
    "**Rojas Estrada Lizbeth Estefanía** <--- CAMBIE POR LOS QUE CORRESPONDA A SUS DATOS\n",
    "\n",
    "**11-01-2021**"
   ]
  },
  {
   "cell_type": "markdown",
   "metadata": {},
   "source": [
    "<font color='red'>NO AGREGUE NUEVAS CELDAS, UTILICE ÚNICAMENTE LAS QUE ESTÁN CREADAS</font>"
   ]
  },
  {
   "cell_type": "markdown",
   "metadata": {},
   "source": [
    "# 1. UNIX\n",
    "\n",
    "## Ejercicio 1\n",
    "**Para esta pregunta debe realizar previamente lo siguiente**\n",
    "\n",
    "**1** *Imprima el directorio de trabajo actual*\n",
    "\n",
    "**2** *Cree un directorio* **test1**\n",
    "\n",
    "**3** *No cambie de directorio para los items 4,5 y 6 deben guardarse en el directorio creado en el paso 2*\n",
    "\n",
    "**4** *Crea un archivo* **test1.txt**\n",
    "\n",
    "**5** *Guarde el texto **\"Hola GBI6\"** en un archivo test2.txt*\n",
    "\n",
    "**6** *Guarde las instrucciones print(\"Hola GBI6\") en el archivo test1.py*\n",
    "\n",
    "\n",
    "**Seleccione la instruccion que agregue el texto \"El examen parcial de GBI6 es hoy\" en el archivo test2 e imprima en la consola**\n",
    "\n",
    "\n",
    "<img src=\"data/Ejercicio1.PNG\" width=900 height=600 />\n",
    "\n",
    "\n",
    "## Ejercicio 2\n",
    "**Para esta pregunta debe realizar previamente lo siguiente**\n",
    "\n",
    "**1** *Imprima el directorio de trabajo actual*\n",
    "\n",
    "**2** *Cree un directorio* **test1**\n",
    "\n",
    "**3** *No cambie de directorio para los items 4,5 y 6 deben guardarse en el directorio creado en el paso 2*\n",
    "\n",
    "**4** *Crea un archivo* **test1.txt**\n",
    "\n",
    "**5** *Guarde el texto **\"Hola GBI6\"** en un archivo test2.txt*\n",
    "\n",
    "**6** *Guarde las instrucciones print(\"Hola GBI6\") en el archivo test1.py*\n",
    "\n",
    "\n",
    "**Seleccione la instruccion que imprima el numero de elementos del directorio test1**\n",
    "\n",
    "<img src=\"data/Ejercicio3.PNG\" width=900 height=700 />\n",
    "\n",
    "\n",
    "\n",
    "## Ejercicio 3\n",
    "\n",
    "**Para esta pregunta debe realizar previamente lo siguiente**\n",
    "\n",
    "**1** *Imprima el directorio de trabajo actual*\n",
    "\n",
    "**2** *Cree un directorio* **test1**\n",
    "\n",
    "**3** *No cambie de directorio para los items 4,5 y 6 deben guardarse en el directorio creado en el paso 2*\n",
    "\n",
    "**4** *Crea un archivo* **test1.txt**\n",
    "\n",
    "**5** *Guarde el texto **\"Hola GBI6\"** en un archivo test2.txt*\n",
    "\n",
    "**6** *Guarde las instrucciones print(\"Hola GBI6\") en el archivo test1.py*\n",
    "\n",
    "\n",
    "**Seleccione la instruccion que copie el archivo tes2.txt al directorio test2/subtest1 y despues borre el directorio test1**\n",
    "\n",
    "\n",
    "\n",
    "<img src=\"data/Ejercicio3.PNG\" width=900 height=700 />\n",
    "\n",
    "Escriba aquí alguna explicación del ejercicio 3 si lo considera necesario (borre esta línea cuando finalice)\n",
    "\n",
    "## Ejercicio 4\n",
    "Escriba aquí el enunciado\n"
   ]
  },
  {
   "cell_type": "code",
   "execution_count": 5,
   "metadata": {},
   "outputs": [
    {
     "data": {
      "text/html": [
       "<iframe width=\"560\" height=\"315\" src=\"https://www.youtube.com/embed/9ck5iEP03g4\" title=\"YouTube video player\" frameborder=\"0\" allow=\"accelerometer; autoplay; clipboard-write; encrypted-media; gyroscope; picture-in-picture\" allowfullscreen></iframe>"
      ],
      "text/plain": [
       "<IPython.core.display.HTML object>"
      ]
     },
     "execution_count": 5,
     "metadata": {},
     "output_type": "execute_result"
    }
   ],
   "source": [
    "# Coloque aquí su video del ejercicio 4\n",
    "from IPython.display import HTML\n",
    "HTML('<iframe width=\"560\" height=\"315\" src=\"https://www.youtube.com/embed/9ck5iEP03g4\" title=\"YouTube video player\" frameborder=\"0\" allow=\"accelerometer; autoplay; clipboard-write; encrypted-media; gyroscope; picture-in-picture\" allowfullscreen></iframe>')\n"
   ]
  },
  {
   "cell_type": "markdown",
   "metadata": {},
   "source": [
    "Escriba aquí alguna explicación del ejercicio 4 si lo considera necesario (borre esta línea cuando finalice)\n",
    "\n",
    "## Ejercicio 5\n",
    "Escriba aquí el enunciado\n"
   ]
  },
  {
   "cell_type": "code",
   "execution_count": 2,
   "metadata": {},
   "outputs": [
    {
     "data": {
      "text/html": [
       "<iframe width=\"560\" height=\"315\" src=\"https://www.youtube.com/embed/3XlZWpLwvvo\" title=\"YouTube video player\" frameborder=\"0\" allow=\"accelerometer; autoplay; clipboard-write; encrypted-media; gyroscope; picture-in-picture\" allowfullscreen></iframe>"
      ],
      "text/plain": [
       "<IPython.core.display.HTML object>"
      ]
     },
     "execution_count": 2,
     "metadata": {},
     "output_type": "execute_result"
    }
   ],
   "source": [
    "# Coloque aquí su video del ejercicio 5\n",
    "from IPython.display import HTML\n",
    "HTML('<iframe width=\"560\" height=\"315\" src=\"https://www.youtube.com/embed/3XlZWpLwvvo\" title=\"YouTube video player\" frameborder=\"0\" allow=\"accelerometer; autoplay; clipboard-write; encrypted-media; gyroscope; picture-in-picture\" allowfullscreen></iframe>')\n"
   ]
  },
  {
   "cell_type": "markdown",
   "metadata": {
    "jp-MarkdownHeadingCollapsed": true,
    "tags": []
   },
   "source": [
    "Escriba aquí alguna explicación del ejercicio 5 si lo considera necesario (borre esta línea cuando finalice)\n",
    "\n",
    "# 2. CONTROL DE LA VERSIÓN\n",
    "## Pregunta 6\n",
    "1. Cree en GitHub un repositorio de nombre ```GBI6_ExamenParcial1```. \n",
    "2. Cree un archivo ```Readme.md``` que debe tener lo siguiente: \n",
    "- Datos personales\n",
    "- Características del computador\n",
    "- Programas utilizados\n",
    "- Explicación de la data utilizada\n",
    "\n",
    "\n",
    "## Pregunta 7\n",
    "1. Cada vez que resuelva un ejercicio (del 1 al 10), utilizando Git Bash, GitHub Desktop o Atom realice un *git push* con el mensaje: \n",
    "\n",
    "\n",
    "<font color='red'>Apellido Nombre ha resuelto el ejercicio 1</font> % Cambie con sus apellidos y nombres; y con el número de ejercicio que corresponda \n",
    "\n",
    "2. Coloque aquí las capturas de pantalla para cada git push realizado desde Git Bash, GitHub Desktop o Atom. \n",
    "\n",
    "- Control de versión ejercicio 1\n",
    "\n",
    "<img src=\"data/Gitpush1.PNG\" width=600 height=450 />\n",
    "\n",
    "- Control de versión ejercicio 2\n",
    "\n",
    "<img src=\"data/Gitpush2.PNG\" width=600 height=450 />\n",
    "\n",
    "- Control de versión ejercicio 3\n",
    "\n",
    "<img src=\"data/Gitpush3.PNG\" width=500 height=450 />\n",
    "\n",
    "\n",
    "- Control de versión ejercicio 4\n",
    "\n",
    "<img src=\"data/Gitpush4.PNG\" width=600 height=450 />\n",
    "\n",
    "- Control de versión ejercicio 5\n",
    "\n",
    "<img src=\"data/Gitpush5.PNG\" width=600 height=450 />\n",
    "\n",
    "- Control de versión ejercicio 8\n",
    "\n",
    "<img src=\"data/Gitpush8.PNG\" width=600 height=450 />\n",
    "\n",
    "- Control de versión ejercicio 9\n",
    "\n",
    "<img src=\"data/Gitpush9.PNG\" width=600 height=450 />\n",
    "\n",
    "- Control de versión ejercicio 10\n",
    "\n",
    "<img src=\"data/Gitpush10.PNG\" width=600 height=450 />\n",
    "\n",
    "\n",
    "3. Cree un directorio de nombre ```data``` donde deben estar guardados: (i) la data utilizada y (ii) las capturas de pantalla de los ejercicios 1 al 3 y los git push del ejercicio 1 al 10 (en total debe tener 13 imágenes). \n",
    "4. Inserte aquí el enlace de su repositorio (válido para el ejercicio 6 y 7): [GitHub Repository: GBI6_ExamenParcial1](https://github.com/gualapuromoises/2021_gbi6.git) (este enlace es de ejemplo)"
   ]
  },
  {
   "cell_type": "markdown",
   "metadata": {},
   "source": [
    "# 3. INTRODUCCIÓN A PYTHON\n",
    "\n",
    "## Ejercicio 8\n",
    "\n",
    "### Pregunta 6 del cuestionario\n",
    "\n",
    "**Para este ejercicio debe realizar lo siguiente**\n",
    "\n",
    "**1** *Cree un diccionario de nombre **dic_aminoacidos** donde se tenga la informacion de la tabla que se encuentra en http://www.russelllab.org/aas/aas.html*\n",
    "\n",
    "**2** *Utilice como 'key' los valores de de la columna **AA** y las columnas **Hits** y **%Abundance** como 'values'* \n",
    "\n",
    "**3** *Luego de crear el diccionario extraiga los valores de 'key' a una lista de nombre **aminoacidos** *\n",
    "\n",
    "**4***Extraiga los valores de 'values'a una lista de nombre **propiedades** *\n"
   ]
  },
  {
   "cell_type": "code",
   "execution_count": 3,
   "metadata": {},
   "outputs": [
    {
     "name": "stdout",
     "output_type": "stream",
     "text": [
      "aminoacidos dict_keys(['Trp', 'Cys', 'His', 'Arg', 'Met', 'Tyr', 'Gln', 'Phe', 'Asp', 'Pro', 'Ala', 'Asn', 'Lys', 'Glu', 'Gly', 'Thr', 'Val', 'Ile', 'Ser', 'Leu'])\n",
      "propiedades dict_values([[{'Hits': '1550', '% Abundance': '1.34'}], [{'Hits': '1905', '% Abundance': '1.76'}], [{'Hits': '1695', '% Abundance': '2.26'}], [{'Hits': '3093', '% Abundance': '5.20'}], [{'Hits': '1102', '% Abundance': '2.32'}], [{'Hits': '1525', '% Abundance': '3.25'}], [{'Hits': '1830', '% Abundance': '3.96'}], [{'Hits': '1616', '% Abundance': '4.12'}], [{'Hits': '1691', '% Abundance': '5.12'}], [{'Hits': '1598', '% Abundance': '5.00'}], [{'Hits': '2018', '% Abundance': '7.34'}], [{'Hits': '1103', '% Abundance': '4.57'}], [{'Hits': '1366', '% Abundance': '5.81'}], [{'Hits': '1471', '% Abundance': '6.22'}], [{'Hits': '1386', '% Abundance': '6.89'}], [{'Hits': '1147', '% Abundance': '5.85'}], [{'Hits': '1225', '% Abundance': '6.48'}], [{'Hits': '1033', '% Abundance': '5.76'}], [{'Hits': '1206', '% Abundance': '7.38'}], [{'Hits': '1127', '% Abundance': '9.36'}]])\n"
     ]
    }
   ],
   "source": [
    "dic_aminoacidos= {\n",
    "    \"Trp\": [\n",
    "        {\"Hits\": \"1550\", \"% Abundance\": \"1.34\"},\n",
    "    ],\n",
    "    \"Cys\": [\n",
    "        {\"Hits\": \"1905\", \"% Abundance\": \"1.76\"},\n",
    "    ],\n",
    "    \"His\": [\n",
    "        {\"Hits\": \"1695\", \"% Abundance\": \"2.26\"},\n",
    "    ],\n",
    "    \"Arg\": [\n",
    "        {\"Hits\": \"3093\", \"% Abundance\": \"5.20\"},\n",
    "    ],\n",
    "    \"Met\": [\n",
    "        {\"Hits\": \"1102\", \"% Abundance\": \"2.32\"},\n",
    "    ],\n",
    "    \"Tyr\": [\n",
    "        {\"Hits\": \"1525\", \"% Abundance\": \"3.25\"},\n",
    "    ],\n",
    "    \"Gln\": [\n",
    "        {\"Hits\": \"1830\", \"% Abundance\": \"3.96\"},\n",
    "    ],\n",
    "    \"Phe\": [\n",
    "        {\"Hits\": \"1616\", \"% Abundance\": \"4.12\"},\n",
    "    ],\n",
    "    \"Asp\": [\n",
    "        {\"Hits\": \"1691\", \"% Abundance\": \"5.12\"},\n",
    "    ],\n",
    "    \"Pro\": [\n",
    "        {\"Hits\": \"1598\", \"% Abundance\": \"5.00\"},\n",
    "    ],\n",
    "    \"Ala\": [\n",
    "        {\"Hits\": \"2018\", \"% Abundance\": \"7.34\"},\n",
    "    ],\n",
    "    \"Asn\": [\n",
    "        {\"Hits\": \"1103\", \"% Abundance\": \"4.57\"},\n",
    "    ],\n",
    "    \"Lys\": [\n",
    "        {\"Hits\": \"1366\", \"% Abundance\": \"5.81\"},\n",
    "    ],\n",
    "    \"Glu\": [\n",
    "        {\"Hits\": \"1471\", \"% Abundance\": \"6.22\"},\n",
    "    ],\n",
    "    \"Gly\": [\n",
    "        {\"Hits\": \"1386\", \"% Abundance\": \"6.89\"},\n",
    "    ],\n",
    "    \"Thr\": [\n",
    "        {\"Hits\": \"1147\", \"% Abundance\": \"5.85\"},\n",
    "    ],\n",
    "    \"Val\": [\n",
    "        {\"Hits\": \"1225\", \"% Abundance\": \"6.48\"},\n",
    "    ],\n",
    "    \"Ile\": [\n",
    "        {\"Hits\": \"1033\", \"% Abundance\": \"5.76\"},\n",
    "    ],\n",
    "    \"Ser\": [\n",
    "        {\"Hits\": \"1206\", \"% Abundance\": \"7.38\"},\n",
    "    ],\n",
    "    \"Leu\": [\n",
    "        {\"Hits\": \"1127\", \"% Abundance\": \"9.36\"},\n",
    "    ],\n",
    "}\n",
    "\n",
    "\n",
    "print(\"aminoacidos\", dic_aminoacidos.keys())\n",
    "                                                                                                                          \n",
    "print(\"propiedades\", dic_aminoacidos.values())"
   ]
  },
  {
   "cell_type": "markdown",
   "metadata": {},
   "source": [
    "## Ejercicio 9\n",
    "\n",
    "### Pregunta 7 del cuestionario\n",
    "\n",
    "**Para este ejercicio tiene que crear previamente lo siguiente**\n",
    "\n",
    "**1** *Una lista de nombre lista1 que tenga a las 10 primeras letras del abecedario*\n",
    "\n",
    "**Relaciones los codigos y respuestas a ejecutar**\n"
   ]
  },
  {
   "cell_type": "code",
   "execution_count": 4,
   "metadata": {},
   "outputs": [
    {
     "name": "stdout",
     "output_type": "stream",
     "text": [
      "['c', 'd', 'e']\n",
      "ikiam\n",
      "None 11\n",
      "d\n"
     ]
    }
   ],
   "source": [
    "lista1 = [\"a\", \"b\", \"c\", \"d\", \"e\", \"f\", \"g\", \"h\", \"i\", \"j\"]\n",
    "\n",
    "print (lista1[2:5])\n",
    "\n",
    "lista1.append([\"gbi6\", \"bio1\", \"ikiam\"])\n",
    "\n",
    "print (lista1[-1][-1])\n",
    "\n",
    "lista1 = [\"a\", \"b\", \"c\", \"d\", \"e\", \"f\", \"g\", \"h\", \"i\", \"j\"]\n",
    "\n",
    "print (lista1.append([\"gbi6\", \"bio1\", \"ikiam\"]),len(lista1))\n",
    "\n",
    "print (lista1[3])\n"
   ]
  },
  {
   "cell_type": "markdown",
   "metadata": {},
   "source": [
    "## Ejercicio 10\n",
    "\n",
    "### Pregunta 8 del cuestionario\n",
    "\n",
    "**Para este ejercicio tiene que crear previamente lo siguiente**\n",
    "\n",
    "*Descargue la data \"SI Table 1\" (10080Table1.xls) de la pagina*https://www.pnas.org/doi/10.1073/pnas.0610080104 *esta data corresponde a algunas caracteristicas de sueño de mamiferos. Seleccione los 10 primeros registros de la columna \"Total sleep time hr\" y cree una lista con el nombre lista 1*"
   ]
  },
  {
   "cell_type": "code",
   "execution_count": 23,
   "metadata": {},
   "outputs": [
    {
     "name": "stdout",
     "output_type": "stream",
     "text": [
      "None ikiam\n",
      "None 11\n",
      "None ['14.9', '9.1', ['gbi6', 'bio1', 'ikiam'], ['gbi6', 'bio1', 'ikiam']]\n",
      "None 13\n",
      "10.1\n"
     ]
    },
    {
     "ename": "TypeError",
     "evalue": "unsupported operand type(s) for +: 'int' and 'str'",
     "output_type": "error",
     "traceback": [
      "\u001b[1;31m---------------------------------------------------------------------------\u001b[0m",
      "\u001b[1;31mTypeError\u001b[0m                                 Traceback (most recent call last)",
      "\u001b[1;32m~\\AppData\\Local\\Temp/ipykernel_24448/1511308760.py\u001b[0m in \u001b[0;36m<module>\u001b[1;34m\u001b[0m\n\u001b[0;32m      9\u001b[0m \u001b[0mprint\u001b[0m\u001b[1;33m(\u001b[0m\u001b[0mlista1\u001b[0m\u001b[1;33m[\u001b[0m\u001b[1;36m5\u001b[0m\u001b[1;33m]\u001b[0m\u001b[1;33m)\u001b[0m\u001b[1;33m\u001b[0m\u001b[1;33m\u001b[0m\u001b[0m\n\u001b[0;32m     10\u001b[0m \u001b[0mlista1\u001b[0m \u001b[1;33m=\u001b[0m \u001b[1;33m[\u001b[0m\u001b[1;34m\"8.6\"\u001b[0m\u001b[1;33m,\u001b[0m \u001b[1;34m\"18.0\"\u001b[0m\u001b[1;33m,\u001b[0m \u001b[1;34m\"19.4\"\u001b[0m\u001b[1;33m,\u001b[0m \u001b[1;34m\"13.7\"\u001b[0m\u001b[1;33m,\u001b[0m \u001b[1;34m\"11.1\"\u001b[0m\u001b[1;33m,\u001b[0m \u001b[1;34m\"10.1\"\u001b[0m\u001b[1;33m,\u001b[0m \u001b[1;34m\"10.3\"\u001b[0m\u001b[1;33m,\u001b[0m \u001b[1;34m\"15.6\"\u001b[0m\u001b[1;33m,\u001b[0m \u001b[1;34m\"14.9\"\u001b[0m\u001b[1;33m,\u001b[0m \u001b[1;34m\"9.1\"\u001b[0m\u001b[1;33m]\u001b[0m\u001b[1;33m\u001b[0m\u001b[1;33m\u001b[0m\u001b[0m\n\u001b[1;32m---> 11\u001b[1;33m \u001b[0msum\u001b[0m\u001b[1;33m(\u001b[0m\u001b[0mlista1\u001b[0m\u001b[1;33m)\u001b[0m\u001b[1;33m/\u001b[0m\u001b[0mlen\u001b[0m\u001b[1;33m(\u001b[0m\u001b[0mlista1\u001b[0m\u001b[1;33m)\u001b[0m\u001b[1;33m\u001b[0m\u001b[1;33m\u001b[0m\u001b[0m\n\u001b[0m\u001b[0;32m     12\u001b[0m \u001b[0mround\u001b[0m\u001b[1;33m(\u001b[0m\u001b[0msum\u001b[0m\u001b[1;33m(\u001b[0m\u001b[0mlista1\u001b[0m\u001b[1;33m)\u001b[0m\u001b[1;33m/\u001b[0m\u001b[0mlen\u001b[0m\u001b[1;33m(\u001b[0m\u001b[0mlista1\u001b[0m\u001b[1;33m)\u001b[0m\u001b[1;33m)\u001b[0m\u001b[1;33m\u001b[0m\u001b[1;33m\u001b[0m\u001b[0m\n",
      "\u001b[1;31mTypeError\u001b[0m: unsupported operand type(s) for +: 'int' and 'str'"
     ]
    }
   ],
   "source": [
    "lista1 = [\"8.6\", \"18.0\", \"19.4\", \"13.7\", \"11.1\", \"10.1\", \"10.3\", \"15.6\", \"14.9\", \"9.1\"]\n",
    "print(lista1.append([\"gbi6\", \"bio1\", \"ikiam\"]),lista1[-1][2])\n",
    "lista1 = [\"8.6\", \"18.0\", \"19.4\", \"13.7\", \"11.1\", \"10.1\", \"10.3\", \"15.6\", \"14.9\", \"9.1\"]\n",
    "print(lista1.append([\"gbi6\", \"bio1\", \"ikiam\"]),len(lista1))\n",
    "print (lista1.append([\"gbi6\", \"bio1\", \"ikiam\"]),lista1[8:])\n",
    "lista1.extend([\"gbi6\", \"bio1\", \"ikiam\"])\n",
    "lista1 = [\"8.6\", \"18.0\", \"19.4\", \"13.7\", \"11.1\", \"10.1\", \"10.3\", \"15.6\", \"14.9\", \"9.1\"]\n",
    "print (lista1.extend([\"gbi6\", \"bio1\", \"ikiam\"]),len(lista1))\n",
    "print(lista1[5])\n",
    "lista1 = [\"8.6\", \"18.0\", \"19.4\", \"13.7\", \"11.1\", \"10.1\", \"10.3\", \"15.6\", \"14.9\", \"9.1\"]\n",
    "sum(lista1)/len(lista1)\n",
    "round(sum(lista1)/len(lista1))"
   ]
  },
  {
   "cell_type": "code",
   "execution_count": null,
   "metadata": {},
   "outputs": [],
   "source": []
  }
 ],
 "metadata": {
  "kernelspec": {
   "display_name": "Python 3 (ipykernel)",
   "language": "python",
   "name": "python3"
  },
  "language_info": {
   "codemirror_mode": {
    "name": "ipython",
    "version": 3
   },
   "file_extension": ".py",
   "mimetype": "text/x-python",
   "name": "python",
   "nbconvert_exporter": "python",
   "pygments_lexer": "ipython3",
   "version": "3.9.7"
  },
  "latex_envs": {
   "LaTeX_envs_menu_present": true,
   "autoclose": false,
   "autocomplete": true,
   "bibliofile": "biblio.bib",
   "cite_by": "apalike",
   "current_citInitial": 1,
   "eqLabelWithNumbers": true,
   "eqNumInitial": 1,
   "hotkeys": {
    "equation": "Ctrl-E",
    "itemize": "Ctrl-I"
   },
   "labels_anchors": false,
   "latex_user_defs": false,
   "report_style_numbering": false,
   "user_envs_cfg": false
  },
  "toc": {
   "base_numbering": 1,
   "nav_menu": {},
   "number_sections": true,
   "sideBar": false,
   "skip_h1_title": false,
   "title_cell": "Table of Contents",
   "title_sidebar": "Contents",
   "toc_cell": false,
   "toc_position": {
    "height": "1152.67px",
    "left": "41px",
    "top": "110px",
    "width": "253.458px"
   },
   "toc_section_display": true,
   "toc_window_display": false
  },
  "varInspector": {
   "cols": {
    "lenName": 16,
    "lenType": 16,
    "lenVar": 40
   },
   "kernels_config": {
    "python": {
     "delete_cmd_postfix": "",
     "delete_cmd_prefix": "del ",
     "library": "var_list.py",
     "varRefreshCmd": "print(var_dic_list())"
    },
    "r": {
     "delete_cmd_postfix": ") ",
     "delete_cmd_prefix": "rm(",
     "library": "var_list.r",
     "varRefreshCmd": "cat(var_dic_list()) "
    }
   },
   "types_to_exclude": [
    "module",
    "function",
    "builtin_function_or_method",
    "instance",
    "_Feature"
   ],
   "window_display": false
  }
 },
 "nbformat": 4,
 "nbformat_minor": 4
}
